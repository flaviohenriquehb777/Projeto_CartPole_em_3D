{
 "cells": [
  {
   "cell_type": "code",
   "execution_count": 1,
   "id": "19754e0a-2bcd-4406-9a72-85d940c14418",
   "metadata": {},
   "outputs": [],
   "source": [
    "import gym\n",
    "import matplotlib.pyplot as plt\n",
    "from matplotlib import animation\n",
    "import numpy as np\n",
    "import warnings\n",
    "\n",
    "warnings.filterwarnings('ignore')"
   ]
  },
  {
   "cell_type": "code",
   "execution_count": 2,
   "id": "6a28a2ce-17f7-4157-95f9-cfbaabbde0af",
   "metadata": {},
   "outputs": [],
   "source": [
    "# Criar ambiente\n",
    "env = gym.make('CartPole-v1', render_mode='rgb_array')\n",
    "\n",
    "# Variáveis de renderização\n",
    "frames = []"
   ]
  },
  {
   "cell_type": "code",
   "execution_count": 3,
   "id": "b5a8f9f7-0166-44dc-a663-28e79d25e94f",
   "metadata": {},
   "outputs": [],
   "source": [
    "# Executar um único episódio para gerar os frames\n",
    "obs = env.reset()\n",
    "obs = obs[0] if isinstance(obs, tuple) else obs  # Compatibilidade\n",
    "\n",
    "done = False\n",
    "while not done:\n",
    "    # Escolher ação aleatória ou uma política simples\n",
    "    action = env.action_space.sample()\n",
    "    obs, reward, done, truncated, info = env.step(action)\n",
    "    \n",
    "    # Renderizar a imagem do ambiente\n",
    "    frame = env.render()\n",
    "    frames.append(frame)\n",
    "\n",
    "env.close()"
   ]
  },
  {
   "cell_type": "code",
   "execution_count": 4,
   "id": "1485962f-1541-40c1-b094-1ea8a5804b59",
   "metadata": {},
   "outputs": [
    {
     "data": {
      "image/png": "[encoded data removed]",
      "text/plain": [
       "<Figure size 600x400 with 1 Axes>"
      ]
     },
     "metadata": {},
     "output_type": "display_data"
    }
   ],
   "source": [
    "# Criar a figura\n",
    "fig = plt.figure(figsize=(6, 4))\n",
    "img = plt.imshow(frames[0])"
   ]
  },
  {
   "cell_type": "code",
   "execution_count": 5,
   "id": "839657c5-0499-4154-bee2-e9a05fe15d46",
   "metadata": {},
   "outputs": [],
   "source": [
    "# Função de animação\n",
    "def animate(i):\n",
    "    img.set_data(frames[i])\n",
    "    return [img]"
   ]
  },
  {
   "cell_type": "code",
   "execution_count": 6,
   "id": "12642890-42cc-4f04-a776-a4eae592774f",
   "metadata": {},
   "outputs": [],
   "source": [
    "# Criar a animação\n",
    "ani = animation.FuncAnimation(fig, animate, frames=len(frames), interval=50, blit=True)"
   ]
  },
  {
   "cell_type": "code",
   "execution_count": 7,
   "id": "2b9c2c61-0254-409a-84d6-9c19ac4736cb",
   "metadata": {},
   "outputs": [
    {
     "name": "stdout",
     "output_type": "stream",
     "text": [
      "Animação salva como 'cartpole_animation.gif'\n"
     ]
    }
   ],
   "source": [
    "# Salvar como GIF\n",
    "ani.save('cartpole_animation.gif', writer='pillow')\n",
    "plt.close()\n",
    "\n",
    "print(\"Animação salva como 'cartpole_animation.gif'\")"
   ]
  }
 ],
 "metadata": {
  "kernelspec": {
   "display_name": "Python 3 (ipykernel)",
   "language": "python",
   "name": "python3"
  },
  "language_info": {
   "codemirror_mode": {
    "name": "ipython",
    "version": 3
   },
   "file_extension": ".py",
   "mimetype": "text/x-python",
   "name": "python",
   "nbconvert_exporter": "python",
   "pygments_lexer": "ipython3",
   "version": "3.12.3"
  }
 },
 "nbformat": 4,
 "nbformat_minor": 5
}
